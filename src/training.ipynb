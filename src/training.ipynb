{
 "cells": [
  {
   "cell_type": "code",
   "execution_count": 1,
   "metadata": {},
   "outputs": [],
   "source": [
    "import os\n",
    "import torch\n",
    "import numpy as np\n",
    "import pandas as pd\n",
    "from tqdm import tqdm\n",
    "from transformers.optimization import AdamW\n",
    "import matplotlib.pyplot as plt"
   ]
  },
  {
   "cell_type": "code",
   "execution_count": 2,
   "metadata": {},
   "outputs": [],
   "source": [
    "from CONFIG import *\n",
    "from dataset import Dataset\n",
    "from modeling_strats import Strats\n",
    "from modeling_gru import GRU_TS\n",
    "from modeling_grud import GRUD_TS\n",
    "from modeling_test import STraTS_new\n",
    "from utils import set_all_seeds,parse_args,set_output_dir, save_results, Logger\n",
    "from evaluator import Evaluator\n",
    "from argparse import Namespace"
   ]
  },
  {
   "cell_type": "code",
   "execution_count": 3,
   "metadata": {},
   "outputs": [],
   "source": [
    "model_mapping = {'strats':Strats, 'gru':GRU_TS, 'grud':GRUD_TS, 'new':STraTS_new}"
   ]
  },
  {
   "cell_type": "markdown",
   "metadata": {},
   "source": [
    "## GRU"
   ]
  },
  {
   "cell_type": "code",
   "execution_count": 6,
   "metadata": {},
   "outputs": [],
   "source": [
    "def train_gru(hid_dim, dropout, lr, max_epochs, gradient_accumulation_steps):\n",
    "    parser = parse_args(model_type = 'gru', hid_dim =hid_dim,dropout = dropout, lr = lr, max_epochs = max_epochs, gradient_accumulation_steps = gradient_accumulation_steps)\n",
    "    args, _ = parser.parse_known_args()\n",
    "    set_all_seeds(args.seed+int(args.run.split('o')[0]))\n",
    "    set_output_dir(args)\n",
    "    args.logger = Logger(args.output_dir, 'log.txt')\n",
    "    args.logger.write('\\n'+str(args))\n",
    "    dataset = Dataset(args)\n",
    "    args.device = torch.device('cuda' if torch.cuda.is_available() else 'cpu')\n",
    "    model = model_mapping[args.model_type](args)\n",
    "    model.to(args.device)\n",
    "    results = {'epoch':[],'train_auroc':[],'val_auroc':[],'test_auroc':[]}\n",
    "\n",
    "    #trainning\n",
    "    num_train = len(dataset.splits['train'])\n",
    "    args.logger.write('\\nSize of training data: ' + str(num_train))\n",
    "    num_batches_per_epoch = num_train/args.train_batch_size\n",
    "    args.logger.write('\\nNo. of training batches per epoch: '\n",
    "                        +str(num_batches_per_epoch))\n",
    "    args.max_steps = int(round(num_batches_per_epoch)*args.max_epochs)\n",
    "    args.logger.write('\\nMax steps: ' + str(num_batches_per_epoch))\n",
    "\n",
    "    if args.validate_every is None:\n",
    "        args.validate_every = int(np.ceil(num_batches_per_epoch)) #validate after each batch\n",
    "\n",
    "    num_steps = 0\n",
    "    optimizer = AdamW(filter(lambda p:p.requires_grad, model.parameters()), lr=args.lr)\n",
    "    train_bar = tqdm(range(args.max_steps))\n",
    "    evaluator = Evaluator(args)\n",
    "\n",
    "    #before training, calculate metrics\n",
    "    if args.validate_after<0:\n",
    "        res_val = evaluator.evaluate(model, dataset, 'val',  train_step=-1)\n",
    "        res_train = evaluator.evaluate(model, dataset, 'eval_train', train_step=-1)\n",
    "        res_test = evaluator.evaluate(model, dataset, 'test', train_step=-1)\n",
    "        results['train_auroc'].append(res_train['auroc'])\n",
    "        results['val_auroc'].append(res_val['auroc'])\n",
    "        results['test_auroc'].append(res_test['auroc'])\n",
    "\n",
    "    #training\n",
    "    model.train()\n",
    "    for step in train_bar:\n",
    "        data_batch = dataset.get_batch()\n",
    "        data_batch = {k:v.to(args.device) for k,v in data_batch.items()}\n",
    "\n",
    "        loss = model(**data_batch)\n",
    "\n",
    "        loss.backward()\n",
    "        torch.nn.utils.clip_grad_norm_(model.parameters(),0.3)\n",
    "        if (step+1)%args.gradient_accumulation_steps==0:\n",
    "            optimizer.step()\n",
    "            optimizer.zero_grad()\n",
    "\n",
    "        num_steps += 1\n",
    "\n",
    "        # run validatation\n",
    "        if (num_steps>=args.validate_after) and (num_steps%args.validate_every==0):\n",
    "            # get metrics on test and validation splits\n",
    "            res_val = evaluator.evaluate(model, dataset, 'val', train_step=step)\n",
    "            res_train = evaluator.evaluate(model, dataset, 'eval_train', train_step=step)\n",
    "            res_test = evaluator.evaluate(model, dataset, 'test', train_step=step)\n",
    "            results['train_auroc'].append(res_train['auroc'])\n",
    "            results['val_auroc'].append(res_val['auroc'])\n",
    "            results['test_auroc'].append(res_test['auroc'])\n",
    "            model.train(True)\n",
    "\n",
    "    results['epoch'] =list(range(0,args.max_epochs+1))\n",
    "    save_results(args, results)\n"
   ]
  },
  {
   "cell_type": "code",
   "execution_count": 9,
   "metadata": {},
   "outputs": [
    {
     "name": "stdout",
     "output_type": "stream",
     "text": [
      "\n",
      "16/10/2024 13:52:28 >> Namespace(dataset='mimic_iii', train_frac=0.7, run='1o10', model_type='gru', max_obs=880, hid_dim=50, num_layers=2, num_heads=4, dropout=0.2, attention_dropout=0.2, kernel_size=4, r=24, M=12, max_timesteps=880, num_ts_feat=51, num_demo_feat=3, hours_look_ahead=24, ref_points=24, pretrain=0, output_dir='../outputs/mimic_iii/gru,hid_dim:50,dropout:0.2,lr:0.0001,gradient_accumulation_steps:8,max_epochs:1|train_frac:0.7|run:1o10', output_dir_prefix='', seed=2024, max_epochs=1, patience=10, lr=0.0001, train_batch_size=16, gradient_accumulation_steps=8, eval_batch_size=16, print_train_loss_every=100, validate_after=-1, validate_every=None, load_ckpt_path=None, logger=<utils.Logger object at 0x153373fa0>)\n",
      "\n",
      "16/10/2024 13:52:30 >> Preparing dataset mimic_iii\n",
      "16/10/2024 13:52:30 >> Removing variables not in training set: ['.3% normal Saline']\n",
      "16/10/2024 13:52:30 >> # train, val, test TS: [3918, 1120, 800]\n",
      "16/10/2024 13:52:30 >> pos class weight: 3.934508816120907\n",
      "16/10/2024 13:52:30 >> % pos class in train, val, test splits: [0.2026544155181215, 0.19732142857142856, 0.20625]\n"
     ]
    },
    {
     "name": "stderr",
     "output_type": "stream",
     "text": [
      "12199it [00:00, 1851102.15it/s]\n"
     ]
    },
    {
     "name": "stdout",
     "output_type": "stream",
     "text": [
      "16/10/2024 13:52:31 >> # intervals: 24\n"
     ]
    },
    {
     "name": "stderr",
     "output_type": "stream",
     "text": [
      "941654it [00:00, 1767873.47it/s]\n",
      "/Users/zhiwenxu/miniconda3/lib/python3.10/site-packages/torch/nn/modules/rnn.py:83: UserWarning: dropout option adds dropout after all but last recurrent layer, so non-zero dropout expects num_layers greater than 1, but got dropout=0.2 and num_layers=1\n",
      "  warnings.warn(\"dropout option adds dropout after all but last \"\n",
      "/Users/zhiwenxu/miniconda3/lib/python3.10/site-packages/transformers/optimization.py:429: FutureWarning: This implementation of AdamW is deprecated and will be removed in a future version. Use the PyTorch implementation torch.optim.AdamW instead, or set `no_deprecation_warning=True` to disable this warning\n",
      "  warnings.warn(\n"
     ]
    },
    {
     "name": "stdout",
     "output_type": "stream",
     "text": [
      "\n",
      "16/10/2024 13:52:32 >> Size of training data: 3918\n",
      "\n",
      "16/10/2024 13:52:32 >> No. of training batches per epoch: 244.875\n",
      "\n",
      "16/10/2024 13:52:32 >> Max steps: 244.875\n"
     ]
    },
    {
     "name": "stderr",
     "output_type": "stream",
     "text": [
      "  0%|          | 0/245 [00:00<?, ?it/s]"
     ]
    },
    {
     "name": "stdout",
     "output_type": "stream",
     "text": [
      "\n",
      "16/10/2024 13:52:32 >> Evaluating on split = val\n"
     ]
    },
    {
     "name": "stderr",
     "output_type": "stream",
     "text": [
      "running forward pass: 100%|██████████| 70/70 [00:00<00:00, 990.15it/s]\n"
     ]
    },
    {
     "name": "stdout",
     "output_type": "stream",
     "text": [
      "16/10/2024 13:52:32 >> Result on val split at train step -1: {'auroc': 0.43768591547169056, 'auprc': 0.1673716434041449, 'minrp': 0.19784172661870503}\n",
      "\n",
      "16/10/2024 13:52:32 >> Evaluating on split = eval_train\n"
     ]
    },
    {
     "name": "stderr",
     "output_type": "stream",
     "text": [
      "running forward pass: 100%|██████████| 125/125 [00:00<00:00, 742.05it/s]\n"
     ]
    },
    {
     "name": "stdout",
     "output_type": "stream",
     "text": [
      "16/10/2024 13:52:32 >> Result on eval_train split at train step -1: {'auroc': 0.396563101947635, 'auprc': 0.17246966992033733, 'minrp': 0.21421421421421422}\n",
      "\n",
      "16/10/2024 13:52:32 >> Evaluating on split = test\n"
     ]
    },
    {
     "name": "stderr",
     "output_type": "stream",
     "text": [
      "running forward pass: 100%|██████████| 50/50 [00:00<00:00, 1047.26it/s]\n",
      " 14%|█▍        | 35/245 [00:00<00:01, 110.21it/s]"
     ]
    },
    {
     "name": "stdout",
     "output_type": "stream",
     "text": [
      "16/10/2024 13:52:32 >> Result on test split at train step -1: {'auroc': 0.42014793605344786, 'auprc': 0.1716950583120681, 'minrp': 0.20702634880803011}\n"
     ]
    },
    {
     "name": "stderr",
     "output_type": "stream",
     "text": [
      " 99%|█████████▉| 242/245 [00:01<00:00, 315.77it/s]"
     ]
    },
    {
     "name": "stdout",
     "output_type": "stream",
     "text": [
      "\n",
      "16/10/2024 13:52:33 >> Evaluating on split = val\n"
     ]
    },
    {
     "name": "stderr",
     "output_type": "stream",
     "text": [
      "running forward pass: 100%|██████████| 70/70 [00:00<00:00, 1067.97it/s]\n"
     ]
    },
    {
     "name": "stdout",
     "output_type": "stream",
     "text": [
      "16/10/2024 13:52:33 >> Result on val split at train step 244: {'auroc': 0.46327493091871813, 'auprc': 0.18780214735827935, 'minrp': 0.1981981981981982}\n",
      "\n",
      "16/10/2024 13:52:33 >> Evaluating on split = eval_train\n"
     ]
    },
    {
     "name": "stderr",
     "output_type": "stream",
     "text": [
      "running forward pass: 100%|██████████| 125/125 [00:00<00:00, 1094.31it/s]\n"
     ]
    },
    {
     "name": "stdout",
     "output_type": "stream",
     "text": [
      "16/10/2024 13:52:33 >> Result on eval_train split at train step 244: {'auroc': 0.41025629592637514, 'auprc': 0.18370982367806155, 'minrp': 0.21464393179538616}\n",
      "\n",
      "16/10/2024 13:52:33 >> Evaluating on split = test\n"
     ]
    },
    {
     "name": "stderr",
     "output_type": "stream",
     "text": [
      "running forward pass: 100%|██████████| 50/50 [00:00<00:00, 1078.89it/s]\n",
      "100%|██████████| 245/245 [00:01<00:00, 194.44it/s]\n"
     ]
    },
    {
     "name": "stdout",
     "output_type": "stream",
     "text": [
      "16/10/2024 13:52:33 >> Result on test split at train step 244: {'auroc': 0.4457074683846338, 'auprc': 0.18134139651385314, 'minrp': 0.20676691729323307}\n"
     ]
    },
    {
     "data": {
      "image/png": "[encoded data removed]",
      "text/plain": [
       "<Figure size 640x480 with 1 Axes>"
      ]
     },
     "metadata": {},
     "output_type": "display_data"
    }
   ],
   "source": [
    "train_gru(50, 0.2, 0.0001, 1, 8)"
   ]
  },
  {
   "cell_type": "markdown",
   "metadata": {},
   "source": [
    "## GRU-D"
   ]
  },
  {
   "cell_type": "code",
   "execution_count": 4,
   "metadata": {},
   "outputs": [],
   "source": [
    "def train_grud(hid_dim, dropout, lr, max_epochs,gradient_accumulation_steps):\n",
    "    #set up\n",
    "    parser = parse_args(model_type='grud',hid_dim =hid_dim,dropout = dropout, lr = lr, max_epochs = max_epochs, gradient_accumulation_steps = gradient_accumulation_steps)\n",
    "    args, _ = parser.parse_known_args()\n",
    "    set_all_seeds(args.seed+int(args.run.split('o')[0]))\n",
    "    set_output_dir(args)\n",
    "    args.logger = Logger(args.output_dir, 'log.txt')\n",
    "    args.logger.write('\\n'+str(args))\n",
    "    dataset = Dataset(args)\n",
    "    args.device = torch.device('cuda' if torch.cuda.is_available() else 'cpu')\n",
    "    model = model_mapping[args.model_type](args)\n",
    "    model.to(args.device)\n",
    "    results = {'epoch':[],'train_auroc':[],'val_auroc':[],'test_auroc':[]}\n",
    "\n",
    "    #trainning\n",
    "    num_train = len(dataset.splits['train'])\n",
    "    args.logger.write('\\nSize of training data: ' + str(num_train))\n",
    "    num_batches_per_epoch = num_train/args.train_batch_size\n",
    "    args.logger.write('\\nNo. of training batches per epoch: '\n",
    "                      +str(num_batches_per_epoch))\n",
    "    args.max_steps = int(round(num_batches_per_epoch)*args.max_epochs)\n",
    "    args.logger.write('\\nMax steps: ' + str(num_batches_per_epoch))\n",
    "\n",
    "    if args.validate_every is None:\n",
    "        args.validate_every = int(np.ceil(num_batches_per_epoch)) #validate after each batch\n",
    "\n",
    "    num_steps = 0\n",
    "    optimizer = AdamW(filter(lambda p:p.requires_grad, model.parameters()), lr=args.lr)\n",
    "    train_bar = tqdm(range(args.max_steps))\n",
    "    evaluator = Evaluator(args)\n",
    "\n",
    "    #before training, calculate metrics\n",
    "    if args.validate_after<0:\n",
    "        res_val = evaluator.evaluate(model, dataset, 'val',  train_step=-1)\n",
    "        res_train = evaluator.evaluate(model, dataset, 'eval_train', train_step=-1)\n",
    "        res_test = evaluator.evaluate(model, dataset, 'test', train_step=-1)\n",
    "        results['train_auroc'].append(res_train['auroc'])\n",
    "        results['val_auroc'].append(res_val['auroc'])\n",
    "        results['test_auroc'].append(res_test['auroc'])\n",
    "\n",
    "    #training\n",
    "    model.train()\n",
    "    for step in train_bar:\n",
    "        data_batch = dataset.get_batch()\n",
    "        data_batch = {k:v.to(args.device) for k,v in data_batch.items()}\n",
    "\n",
    "        loss = model(**data_batch)\n",
    "\n",
    "        loss.backward()\n",
    "        torch.nn.utils.clip_grad_norm_(model.parameters(),0.3)\n",
    "        if (step+1)%args.gradient_accumulation_steps==0:\n",
    "            optimizer.step()\n",
    "            optimizer.zero_grad()\n",
    "\n",
    "        num_steps += 1\n",
    "\n",
    "        # run validatation\n",
    "        if (num_steps>=args.validate_after) and (num_steps%args.validate_every==0):\n",
    "            # get metrics on test and validation splits\n",
    "            res_val = evaluator.evaluate(model, dataset, 'val', train_step=step)\n",
    "            res_train = evaluator.evaluate(model, dataset, 'eval_train', train_step=step)\n",
    "            res_test = evaluator.evaluate(model, dataset, 'test', train_step=step)\n",
    "            results['train_auroc'].append(res_train['auroc'])\n",
    "            results['val_auroc'].append(res_val['auroc'])\n",
    "            results['test_auroc'].append(res_test['auroc'])\n",
    "            model.train(True)\n",
    "\n",
    "    results['epoch'] =list(range(0,args.max_epochs+1))\n",
    "    save_results(args, results)"
   ]
  },
  {
   "cell_type": "code",
   "execution_count": null,
   "metadata": {},
   "outputs": [],
   "source": [
    "train_grud(60, 0.2, 0.0001, 1, 8)"
   ]
  },
  {
   "cell_type": "markdown",
   "metadata": {},
   "source": [
    "## STraTS"
   ]
  },
  {
   "cell_type": "code",
   "execution_count": 4,
   "metadata": {},
   "outputs": [],
   "source": [
    "def train_strats(hid_dim,num_heads,lr,max_epochs,gradient_accumulation_steps):\n",
    "    #set up\n",
    "    parser = parse_args(model_type='strats',hid_dim=hid_dim,num_heads=num_heads,lr=lr,max_epochs = max_epochs,gradient_accumulation_steps =gradient_accumulation_steps)\n",
    "    args, _ = parser.parse_known_args()\n",
    "    set_all_seeds(args.seed+int(args.run.split('o')[0]))\n",
    "    set_output_dir(args)\n",
    "    args.logger = Logger(args.output_dir, 'log.txt')\n",
    "    args.logger.write('\\n'+str(args))\n",
    "    dataset = Dataset(args)\n",
    "    args.device = torch.device('cuda' if torch.cuda.is_available() else 'cpu')\n",
    "    model = model_mapping[args.model_type](args)\n",
    "    model.to(args.device)\n",
    "    results = {'epoch':[],'train_auroc':[],'val_auroc':[],'test_auroc':[], \n",
    "                                'embedding_weights':None, 'shap_values':None}\n",
    "\n",
    "    #trainning\n",
    "    num_train = len(dataset.splits['train'])\n",
    "    args.logger.write('\\nSize of training data: ' + str(num_train))\n",
    "    num_batches_per_epoch = num_train/args.train_batch_size\n",
    "    args.logger.write('\\nNo. of training batches per epoch: '\n",
    "                      +str(num_batches_per_epoch))\n",
    "    args.max_steps = int(round(num_batches_per_epoch)*args.max_epochs)\n",
    "    args.logger.write('\\nMax steps: ' + str(num_batches_per_epoch))\n",
    "\n",
    "    if args.validate_every is None:\n",
    "        args.validate_every = int(np.ceil(num_batches_per_epoch)) #validate after each batch\n",
    "\n",
    "    num_steps = 0\n",
    "    optimizer = AdamW(filter(lambda p:p.requires_grad, model.parameters()), lr=args.lr)\n",
    "    train_bar = tqdm(range(args.max_steps))\n",
    "    evaluator = Evaluator(args)\n",
    "\n",
    "    #before training, calculate metrics\n",
    "    if args.validate_after<0:\n",
    "        res_val = evaluator.evaluate(model, dataset, 'val',  train_step=-1)\n",
    "        res_train = evaluator.evaluate(model, dataset, 'eval_train', train_step=-1)\n",
    "        res_test = evaluator.evaluate(model, dataset, 'test', train_step=-1)\n",
    "        results['train_auroc'].append(res_train['auroc'])\n",
    "        results['val_auroc'].append(res_val['auroc'])\n",
    "        results['test_auroc'].append(res_test['auroc'])\n",
    "\n",
    "    #training\n",
    "    model.train()\n",
    "    for step in train_bar:\n",
    "        data_batch = dataset.get_batch()\n",
    "        data_batch = {k:v.to(args.device) for k,v in data_batch.items()}\n",
    "\n",
    "        loss = model(**data_batch)\n",
    "        loss.backward()\n",
    "        \n",
    "        torch.nn.utils.clip_grad_norm_(model.parameters(),0.3)\n",
    "        if (step+1)%args.gradient_accumulation_steps==0:\n",
    "            optimizer.step()\n",
    "            optimizer.zero_grad()\n",
    "\n",
    "        num_steps += 1\n",
    "\n",
    "        # run validatation\n",
    "        if (num_steps>=args.validate_after) and (num_steps%args.validate_every==0):\n",
    "            # get metrics on test and validation splits\n",
    "            res_val = evaluator.evaluate(model, dataset, 'val', train_step=step)\n",
    "            res_train = evaluator.evaluate(model, dataset, 'eval_train', train_step=step)\n",
    "            res_test = evaluator.evaluate(model, dataset, 'test', train_step=step)\n",
    "            results['train_auroc'].append(res_train['auroc'])\n",
    "            results['val_auroc'].append(res_val['auroc'])\n",
    "            results['test_auroc'].append(res_test['auroc'])\n",
    "            model.train(True)\n",
    "\n",
    "    results['epoch'] =list(range(0,args.max_epochs+1))\n",
    "    save_results(args, results)\n"
   ]
  },
  {
   "cell_type": "code",
   "execution_count": null,
   "metadata": {},
   "outputs": [],
   "source": [
    "train_strats(hid_dim=32,num_heads=4,lr=0.0005,max_epochs = 1,gradient_accumulation_steps=1)"
   ]
  },
  {
   "cell_type": "markdown",
   "metadata": {},
   "source": [
    "## Test new models"
   ]
  },
  {
   "cell_type": "code",
   "execution_count": 5,
   "metadata": {},
   "outputs": [],
   "source": [
    "def train_new(hid_dim,num_heads,lr,max_epochs,gradient_accumulation_steps):\n",
    "    #set up\n",
    "    parser = parse_args(model_type='new',hid_dim=hid_dim,num_heads=num_heads,lr=lr,max_epochs=max_epochs,gradient_accumulation_steps =gradient_accumulation_steps)\n",
    "    args, _ = parser.parse_known_args()\n",
    "    set_all_seeds(args.seed+int(args.run.split('o')[0]))\n",
    "    set_output_dir(args)\n",
    "    args.logger = Logger(args.output_dir, 'log.txt')\n",
    "    args.logger.write('\\n'+str(args))\n",
    "    dataset = Dataset(args)\n",
    "    args.device = torch.device('cuda' if torch.cuda.is_available() else 'cpu')\n",
    "    model = model_mapping[args.model_type](args)\n",
    "    model.to(args.device)\n",
    "    results = {'epoch':[],'train_auroc':[],'val_auroc':[],'test_auroc':[]}\n",
    "\n",
    "    #trainning\n",
    "    num_train = len(dataset.splits['train'])\n",
    "    args.logger.write('\\nSize of training data: ' + str(num_train))\n",
    "    num_batches_per_epoch = num_train/args.train_batch_size\n",
    "    args.logger.write('\\nNo. of training batches per epoch: '\n",
    "                      +str(num_batches_per_epoch))\n",
    "    args.max_steps = int(round(num_batches_per_epoch)*args.max_epochs)\n",
    "    args.logger.write('\\nMax steps: ' + str(num_batches_per_epoch))\n",
    "\n",
    "    if args.validate_every is None:\n",
    "        args.validate_every = int(np.ceil(num_batches_per_epoch)) #validate after each batch\n",
    "\n",
    "    num_steps = 0\n",
    "    optimizer = AdamW(filter(lambda p:p.requires_grad, model.parameters()), lr=args.lr)\n",
    "    train_bar = tqdm(range(args.max_steps))\n",
    "    evaluator = Evaluator(args)\n",
    "\n",
    "    #before training, calculate metrics\n",
    "    if args.validate_after<0:\n",
    "        res_val = evaluator.evaluate(model, dataset, 'val',  train_step=-1)\n",
    "        res_train = evaluator.evaluate(model, dataset, 'eval_train', train_step=-1)\n",
    "        res_test = evaluator.evaluate(model, dataset, 'test', train_step=-1)\n",
    "        results['train_auroc'].append(res_train['auroc'])\n",
    "        results['val_auroc'].append(res_val['auroc'])\n",
    "        results['test_auroc'].append(res_test['auroc'])\n",
    "\n",
    "    #training\n",
    "    model.train()\n",
    "    for step in train_bar:\n",
    "        data_batch = dataset.get_batch()\n",
    "        data_batch = {k:v.to(args.device) for k,v in data_batch.items()}\n",
    "\n",
    "        loss = model(**data_batch)\n",
    "\n",
    "        loss.backward()\n",
    "        torch.nn.utils.clip_grad_norm_(model.parameters(),0.3)\n",
    "        if (step+1)%args.gradient_accumulation_steps==0:\n",
    "            optimizer.step()\n",
    "            optimizer.zero_grad()\n",
    "\n",
    "        num_steps += 1\n",
    "\n",
    "        # run validatation\n",
    "        if (num_steps>=args.validate_after) and (num_steps%args.validate_every==0):\n",
    "            # get metrics on test and validation splits\n",
    "            res_val = evaluator.evaluate(model, dataset, 'val', train_step=step)\n",
    "            res_train = evaluator.evaluate(model, dataset, 'eval_train', train_step=step)\n",
    "            res_test = evaluator.evaluate(model, dataset, 'test', train_step=step)\n",
    "            results['train_auroc'].append(res_train['auroc'])\n",
    "            results['val_auroc'].append(res_val['auroc'])\n",
    "            results['test_auroc'].append(res_test['auroc'])\n",
    "            model.train(True)\n",
    "\n",
    "    results['epoch']=list(range(0,args.max_epochs+1))\n",
    "    save_results(args, results)\n"
   ]
  },
  {
   "cell_type": "code",
   "execution_count": null,
   "metadata": {},
   "outputs": [],
   "source": [
    "train_new(hid_dim=32,num_heads=4,lr=0.0005,max_epochs=1,gradient_accumulation_steps=8)"
   ]
  }
 ],
 "metadata": {
  "kernelspec": {
   "display_name": "Python 3",
   "language": "python",
   "name": "python3"
  },
  "language_info": {
   "codemirror_mode": {
    "name": "ipython",
    "version": 3
   },
   "file_extension": ".py",
   "mimetype": "text/x-python",
   "name": "python",
   "nbconvert_exporter": "python",
   "pygments_lexer": "ipython3",
   "version": "3.10.10"
  }
 },
 "nbformat": 4,
 "nbformat_minor": 2
}
